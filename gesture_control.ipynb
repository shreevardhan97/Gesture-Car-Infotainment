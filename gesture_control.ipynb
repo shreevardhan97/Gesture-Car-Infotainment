{
 "cells": [
  {
   "cell_type": "code",
   "execution_count": 1,
   "metadata": {},
   "outputs": [],
   "source": [
    "import mediapipe as mp\n",
    "from mediapipe.tasks import python\n",
    "from mediapipe.tasks.python import vision"
   ]
  },
  {
   "cell_type": "code",
   "execution_count": null,
   "metadata": {},
   "outputs": [],
   "source": [
    "import cv2\n",
    "import mediapipe as mp\n",
    "import subprocess  # To run osascript commands\n",
    "\n",
    "# Initialize Mediapipe Hands module\n",
    "mp_hands = mp.solutions.hands\n",
    "hands = mp_hands.Hands()\n",
    "\n",
    "# Start capturing video from the first camera device\n",
    "cap = cv2.VideoCapture(1)\n",
    "\n",
    "# Check if the webcam is opened correctly\n",
    "if not cap.isOpened():\n",
    "    print(\"Could not open webcam\")\n",
    "    exit()\n",
    "\n",
    "pause_video = False  # Initialize the pause_video flag\n",
    "mute_volume = False  # Initialize the mute_volume flag\n",
    "\n",
    "while cap.isOpened():\n",
    "    ret, frame = cap.read()\n",
    "    if not ret:\n",
    "        print(\"Failed to grab frame\")\n",
    "        break\n",
    "\n",
    "    frame = cv2.flip(frame, 1)\n",
    "\n",
    "    rgb_frame = cv2.cvtColor(frame, cv2.COLOR_BGR2RGB)\n",
    "\n",
    "    results = hands.process(rgb_frame)\n",
    "    \n",
    "\n",
    "    if results.multi_hand_landmarks:\n",
    "        for hand_landmarks in results.multi_hand_landmarks:\n",
    "            thumb_mcp = hand_landmarks.landmark[mp_hands.HandLandmark.THUMB_MCP]\n",
    "            thumb_tip = hand_landmarks.landmark[mp_hands.HandLandmark.THUMB_TIP]\n",
    "            index_finger_mcp = hand_landmarks.landmark[mp_hands.HandLandmark.INDEX_FINGER_MCP]\n",
    "            hand_vertical = hand_landmarks.landmark[mp_hands.HandLandmark.INDEX_FINGER_MCP].y < hand_landmarks.landmark[mp_hands.HandLandmark.WRIST].y\n",
    "            hand_horizontal = abs(hand_landmarks.landmark[mp_hands.HandLandmark.INDEX_FINGER_MCP].x - hand_landmarks.landmark[mp_hands.HandLandmark.WRIST].x) < 0.05\n",
    "\n",
    "            if hand_vertical and hand_horizontal:\n",
    "                mute_volume = True\n",
    "            else:\n",
    "                mute_volume = False\n",
    "            \n",
    "\n",
    "\n",
    "            is_thumb_up = thumb_tip.y < thumb_mcp.y\n",
    "            is_thumb_down = thumb_tip.y > index_finger_mcp.y\n",
    "            \n",
    "            \n",
    "            # if mute_volume:\n",
    "            #     print(\"Back of hand shown! Muting Volume\")\n",
    "            #     subprocess.run([\"osascript\", \"-e\", \"set volume output volume 0\"])\n",
    "    #        else:\n",
    "            if is_thumb_up:\n",
    "                    print(\"Thumbs Up! Increasing Volume\")\n",
    "                    subprocess.run([\"osascript\", \"-e\", \"set volume output volume (output volume of (get volume settings) + 10) --100%\"])\n",
    "            elif is_thumb_down:\n",
    "                    print(\"Thumbs Down! Decreasing Volume\")\n",
    "                    subprocess.run([\"osascript\", \"-e\", \"set volume output volume (output volume of (get volume settings) - 10) --100%\"])\n",
    "\n",
    "\n",
    "    # cv2.imshow('Hand Tracking', frame)\n",
    "\n",
    "    # Break the loop if 'q' key is pressed\n",
    "    if cv2.waitKey(1) & 0xFF == ord('q'):\n",
    "        break"
   ]
  },
  {
   "cell_type": "code",
   "execution_count": null,
   "metadata": {},
   "outputs": [],
   "source": [
    "hands.close()\n",
    "cap.release()\n",
    "cv2.destroyAllWindows()"
   ]
  }
 ],
 "metadata": {
  "kernelspec": {
   "display_name": "hackout",
   "language": "python",
   "name": "python3"
  },
  "language_info": {
   "codemirror_mode": {
    "name": "ipython",
    "version": 3
   },
   "file_extension": ".py",
   "mimetype": "text/x-python",
   "name": "python",
   "nbconvert_exporter": "python",
   "pygments_lexer": "ipython3",
   "version": "3.8.18"
  },
  "orig_nbformat": 4
 },
 "nbformat": 4,
 "nbformat_minor": 2
}
